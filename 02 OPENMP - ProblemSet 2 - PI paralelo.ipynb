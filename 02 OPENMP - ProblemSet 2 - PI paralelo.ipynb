{
 "cells": [
  {
   "cell_type": "markdown",
   "metadata": {},
   "source": [
    "# Cálculo de $\\pi$ en paralelo\n",
    "### LEE ATENTAMENTE ESTE `notebook` EJECUTANDO SUS CELDAS. COMPLETA Y CONTESTA LAS CELDAS QUE CORRESPONDAN\n",
    "\n",
    "Asegúrate de que estás ejecutando el código de este _notebook_ en la máquina y desde el directorio que quieres\n",
    "\n",
    "**$\\rightarrow$ ejecuta** (`shift` + `return`)"
   ]
  },
  {
   "cell_type": "code",
   "execution_count": 2,
   "metadata": {
    "collapsed": false
   },
   "outputs": [
    {
     "name": "stdout",
     "output_type": "stream",
     "text": [
      "HOSTNAME      scicomp\n",
      "CURRENT DIR   /mnt/teaching/parallel-computing/ucaldas.20152.msc/student\n"
     ]
    }
   ],
   "source": [
    "import numpy as np\n",
    "import matplotlib.pyplot as plt\n",
    "%matplotlib inline\n",
    "from scipy.integrate import quad\n",
    "\n",
    "!echo \"HOSTNAME     \" `hostname`; \n",
    "!echo \"CURRENT DIR  \" `pwd`"
   ]
  },
  {
   "cell_type": "markdown",
   "metadata": {},
   "source": [
    "Calcularemos el valor de $\\pi$ aproximando numéricamente la siguiente integral\n",
    "\n",
    "$$\\int_0^1 \\frac{4}{1+x^2}dx \\; \\approx \\; \\sum_{i=0}^{N} \\frac{1}{N} \\frac{4}{1+(\\frac{i}{N})^2}$$\n",
    "\n",
    "Comprobamos primero que el valor de la integral es efectivamente $\\pi$, usando las capacidades de integración numérica de Python y lo comparamos con la aproximación numérica con la sumatoria. "
   ]
  },
  {
   "cell_type": "code",
   "execution_count": 3,
   "metadata": {
    "collapsed": false
   },
   "outputs": [
    {
     "name": "stdout",
     "output_type": "stream",
     "text": [
      "actual pi                3.14159265359\n",
      "numerical integration    3.14159265359\n",
      "sumation approximation   3.14259248692\n"
     ]
    },
    {
     "data": {
      "image/png": "[encoded data removed]",
      "text/plain": [
       "<matplotlib.figure.Figure at 0x7f0851c35150>"
      ]
     },
     "metadata": {},
     "output_type": "display_data"
    }
   ],
   "source": [
    "def f(x): \n",
    "    return 4. / (1.+x**2)\n",
    "r = quad(f, 0,1)\n",
    "print \"actual pi               \", np.pi\n",
    "print \"numerical integration   \", r[0]\n",
    "\n",
    "N=1000; i = np.arange(N)\n",
    "num_approx = np.sum(4./(1+(1.*i/N)**2))/N\n",
    "print \"sumation approximation  \",num_approx\n",
    "\n",
    "x = np.linspace(0,1,100)\n",
    "ax = plt.figure(figsize=(10,5)).add_subplot(111)\n",
    "ax.set_ylim(0,5); ax.set_xlim(-0.1,1.1)\n",
    "ax.plot(x,f(x), linewidth=3, color=\"r\", alpha=0.8)\n",
    "N=21\n",
    "for i in np.linspace(0,1,N):\n",
    "    ax.add_patch(plt.Rectangle((i-.6/N,0),1./N, f(i), alpha=0.5, color=\"gray\", linewidth=1))\n"
   ]
  },
  {
   "cell_type": "markdown",
   "metadata": {},
   "source": [
    "## Cálculo de $\\pi$ en serie\n",
    "Inspecciona y entiende el siguiente programa en C. Observa cómo se implementa la aproximación numérica por la sumatoria\n",
    "\n",
    "**$\\rightarrow$ salva el siguiente código ** (`shift` + `return`)"
   ]
  },
  {
   "cell_type": "code",
   "execution_count": 4,
   "metadata": {
    "collapsed": false
   },
   "outputs": [
    {
     "name": "stdout",
     "output_type": "stream",
     "text": [
      "Writing files/pi_spmd_serial.c\n"
     ]
    }
   ],
   "source": [
    "%%writefile files/pi_spmd_serial.c \n",
    "\n",
    "/**\n",
    "  Based on Tim Mattons tutorial at Intel\n",
    "  https://software.intel.com/en-us/courseware/249662\n",
    "**/\n",
    "\n",
    "#include <stdio.h>\n",
    "#include <omp.h>\n",
    "\n",
    "static double num_steps = 100000000;\n",
    "double step;\n",
    "int main ()\n",
    "{\n",
    "    int i,j;\n",
    "    double x, pi, full_sum = 0.0;\n",
    "    double start_time, run_time;\n",
    "\n",
    "    step = 1.0/ num_steps;\n",
    "    full_sum=0.0;\n",
    "\n",
    "    start_time = omp_get_wtime();\n",
    "    for (i=0;i< num_steps; i+=1){\n",
    "        x = i*step;\n",
    "        full_sum += 4.0/(1.0+x*x);\n",
    "    }\n",
    "    pi = step * full_sum;\n",
    "    run_time = omp_get_wtime() - start_time;\n",
    "\n",
    "    printf(\"pi secs\\n\");\n",
    "    printf(\"%f %f \\n\",pi,run_time);\n",
    "}\n"
   ]
  },
  {
   "cell_type": "markdown",
   "metadata": {},
   "source": [
    "**$\\rightarrow$ compila el código ... ** (`shift` + `return`)"
   ]
  },
  {
   "cell_type": "code",
   "execution_count": 5,
   "metadata": {
    "collapsed": false
   },
   "outputs": [
    {
     "name": "stdout",
     "output_type": "stream",
     "text": [
      "rm -rf *.o files/pi_spmd_serial /mnt/teaching/parallel-computing/ucaldas.20152.msc/student/utils/*.o\n",
      "--------------------------------------\n",
      "- bulding files/pi_spmd_serial\n",
      "--------------------------------------\n",
      "INCLUDES /mnt/teaching/parallel-computing/ucaldas.20152.msc/student/utils\n",
      "SOURCES files/pi_spmd_serial.c\t /mnt/teaching/parallel-computing/ucaldas.20152.msc/student/utils/rlxutils.c\n",
      "ROOT DIR /mnt/teaching/parallel-computing/ucaldas.20152.msc/student/utils\n",
      "gcc -c -fopenmp -D LINUX -I/mnt/teaching/parallel-computing/ucaldas.20152.msc/student/utils files/pi_spmd_serial.c -o files/pi_spmd_serial.o\n",
      "INCLUDES /mnt/teaching/parallel-computing/ucaldas.20152.msc/student/utils\n",
      "SOURCES files/pi_spmd_serial.c\t /mnt/teaching/parallel-computing/ucaldas.20152.msc/student/utils/rlxutils.c\n",
      "ROOT DIR /mnt/teaching/parallel-computing/ucaldas.20152.msc/student/utils\n",
      "gcc -c -fopenmp -D LINUX -I/mnt/teaching/parallel-computing/ucaldas.20152.msc/student/utils /mnt/teaching/parallel-computing/ucaldas.20152.msc/student/utils/rlxutils.c -o /mnt/teaching/parallel-computing/ucaldas.20152.msc/student/utils/rlxutils.o\n",
      "gcc files/pi_spmd_serial.o /mnt/teaching/parallel-computing/ucaldas.20152.msc/student/utils/rlxutils.o -o files/pi_spmd_serial -fopenmp -lrt \n"
     ]
    }
   ],
   "source": [
    "!make -f m/Makefile-p2.2.1 clean all"
   ]
  },
  {
   "cell_type": "markdown",
   "metadata": {},
   "source": [
    "**$\\rightarrow$ ejecuta la aplicación ... ** (`shift` + `return`)"
   ]
  },
  {
   "cell_type": "code",
   "execution_count": 6,
   "metadata": {
    "collapsed": false
   },
   "outputs": [
    {
     "name": "stdout",
     "output_type": "stream",
     "text": [
      "pi secs\r\n",
      "3.141593 2.274120 \r\n"
     ]
    }
   ],
   "source": [
    "!./files/pi_spmd_serial"
   ]
  },
  {
   "cell_type": "markdown",
   "metadata": {},
   "source": [
    "## Cálculo de $\\pi$ en paralelo I\n",
    "Observa la implementación en paralelo, en particular:\n",
    "* el incremento de la variable `i` en el bucle `for` más interno hace que cada thread sume una parte del área de la integral (indicada con distintos colores en la figura siguiente)\n",
    "* la variable `full_sum` se va acumulando la suma del área aproximada de la integral"
   ]
  },
  {
   "cell_type": "code",
   "execution_count": 7,
   "metadata": {
    "collapsed": false
   },
   "outputs": [
    {
     "data": {
      "text/plain": [
       "<matplotlib.text.Annotation at 0x7f0850585d90>"
      ]
     },
     "execution_count": 7,
     "metadata": {},
     "output_type": "execute_result"
    },
    {
     "data": {
      "image/png": "[encoded data removed]",
      "text/plain": [
       "<matplotlib.figure.Figure at 0x7f08744da5d0>"
      ]
     },
     "metadata": {},
     "output_type": "display_data"
    }
   ],
   "source": [
    "x = np.linspace(0,1,100)\n",
    "ax = plt.figure(figsize=(10,5)).add_subplot(111)\n",
    "ax.set_ylim(0,5); ax.set_xlim(-0.1,1.1)\n",
    "ax.plot(x,f(x), linewidth=3, color=\"r\", alpha=0.8)\n",
    "N = 21; cols = [\"black\",\"gray\",\"green\"]\n",
    "for i in np.linspace(0,1,N):\n",
    "    ax.add_patch(plt.Rectangle((i-.6/N,0),1./N, f(i), alpha=0.5, color=cols[int(i*N)%3], linewidth=1))\n",
    "    \n",
    "ax.add_patch(plt.Rectangle((0.8,4),0.03,0.25, color=\"black\", linewidth=1, alpha=0.5))\n",
    "ax.annotate(\"thread 1\", xy=(0.85,4.05))\n",
    "\n",
    "ax.add_patch(plt.Rectangle((0.8,3.65),0.03,0.25, color=\"gray\", linewidth=1, alpha=0.5))\n",
    "ax.annotate(\"thread 2\", xy=(0.85,3.7))\n",
    "\n",
    "ax.add_patch(plt.Rectangle((0.8,3.3),0.03,0.25, color=\"green\", linewidth=1, alpha=0.5))\n",
    "ax.annotate(\"thread 3\", xy=(0.85,3.35))\n",
    "\n"
   ]
  },
  {
   "cell_type": "markdown",
   "metadata": {},
   "source": [
    "# TAREA 1: Incluye el código paralelo en un bucle que lo ejecute con 1,2,3 y 4 threads\n",
    "\n",
    "**$\\rightarrow$ modifica y salva el siguiente código ** (`shift` + `return`)"
   ]
  },
  {
   "cell_type": "code",
   "execution_count": null,
   "metadata": {
    "collapsed": false
   },
   "outputs": [],
   "source": [
    "%%writefile files/pi_spmd_naive.c\n",
    "\n",
    "/**\n",
    "  Based on Tim Mattons' tutorial at Intel\n",
    "  https://software.intel.com/en-us/courseware/249662\n",
    "**/\n",
    "\n",
    "#include <stdio.h>\n",
    "#include <omp.h>\n",
    "\n",
    "#define MAX_THREADS 4\n",
    "\n",
    "static long num_steps = 100000000;\n",
    "double step;\n",
    "int main ()\n",
    "{\n",
    "    int i,j;\n",
    "    double pi, full_sum = 0.0;\n",
    "    double start_time, run_time;\n",
    "\n",
    "    step = 1.0/(double) num_steps;\n",
    "\n",
    "    printf(\"pi secs nthreads\\n\");\n",
    "\n",
    "    j=4;\n",
    "\n",
    "    //  =========== INICIA UN BUCLE DESDE j=1 HASTA MAX_THREADS ============\n",
    "    omp_set_num_threads(j);\n",
    "    full_sum=0.0;\n",
    "    start_time = omp_get_wtime();\n",
    "\n",
    "    #pragma omp parallel\n",
    "    {\n",
    "        int i;\n",
    "        int id = omp_get_thread_num();\n",
    "        int numthreads = omp_get_num_threads();\n",
    "        double x;\n",
    "\n",
    "        for (i=id;i< num_steps; i+=numthreads){\n",
    "            x = (i+0.5)*step;\n",
    "            full_sum = full_sum + 4.0/(1.0+x*x);\n",
    "        }\n",
    "    }\n",
    "\n",
    "    pi = step * full_sum;\n",
    "    run_time = omp_get_wtime() - start_time;\n",
    "    printf(\"%f %f %d \\n\",pi,run_time,j);\n",
    "    //  =========== CIERRA EL BUCLE AQUI ============\n",
    "\n",
    "}\n"
   ]
  },
  {
   "cell_type": "code",
   "execution_count": null,
   "metadata": {
    "collapsed": false
   },
   "outputs": [],
   "source": [
    "!make -f m/Makefile-p2.2.2 clean all"
   ]
  },
  {
   "cell_type": "code",
   "execution_count": null,
   "metadata": {
    "collapsed": false
   },
   "outputs": [],
   "source": [
    "!./files/pi_spmd_naive"
   ]
  },
  {
   "cell_type": "markdown",
   "metadata": {},
   "source": [
    "## Cálculo de $\\pi$ en paralelo II\n",
    "Observa ahora el siguiente código. Lo que queremos es que cada thread tenga su variable independiente para \n",
    "almacenar su suma parcial y, una vez que todos los threads hayan acabado, agregamos todas las sumas parciales.\n",
    "\n",
    "Para ello creamos un array `sum[MAX_THREADS]` con un elemento para cada thread\n",
    "\n",
    "# TAREA 2: Modifica el código paralelo para que cada thread acumule su suma sobre un elemento distinto del array y agrega las sumas parciales de cada thread despues del código paralelo\n",
    "\n"
   ]
  },
  {
   "cell_type": "code",
   "execution_count": 15,
   "metadata": {
    "collapsed": false
   },
   "outputs": [
    {
     "name": "stdout",
     "output_type": "stream",
     "text": [
      "Writing files/pi_spmd_simple.c\n"
     ]
    }
   ],
   "source": [
    "%%writefile files/pi_spmd_simple.c\n",
    "\n",
    "/**\n",
    "  Based on Tim Mattons' tutorial at Intel\n",
    "  https://software.intel.com/en-us/courseware/249662\n",
    "**/\n",
    "\n",
    "#include <stdio.h>\n",
    "#include <omp.h>\n",
    "\n",
    "#define MAX_THREADS 4\n",
    "\n",
    "static long num_steps = 100000000;\n",
    "double step;\n",
    "int main ()\n",
    "{\n",
    "    int i,j;\n",
    "    double pi, full_sum = 0.0;\n",
    "    double start_time, run_time;\n",
    "    \n",
    "    // array con un elemento para cada thread\n",
    "    double sum[MAX_THREADS];\n",
    "\n",
    "    step = 1.0/(double) num_steps;\n",
    "\n",
    "    printf(\"pi secs nthreads\\n\");\n",
    "\n",
    "    j=4;\n",
    "\n",
    "    //  =========== INICIA UN BUCLE DESDE j=1 HASTA MAX_THREADS ============\n",
    "    omp_set_num_threads(j);\n",
    "    full_sum=0.0;\n",
    "    start_time = omp_get_wtime();\n",
    "\n",
    "    #pragma omp parallel\n",
    "    {\n",
    "        int i;\n",
    "        int id = omp_get_thread_num();\n",
    "        int numthreads = omp_get_num_threads();\n",
    "        double x;\n",
    "\n",
    "        sum[id] = 0.0;\n",
    "\n",
    "        for (i=id;i< num_steps; i+=numthreads){\n",
    "            x = (i+0.5)*step;\n",
    "            // ==== MODIFICA LA SIGUIENTE LINEA ====\n",
    "            // para que cada thread actualice su elemento del array 'sum' y no la suma global\n",
    "            full_sum = full_sum + 4.0/(1.0+x*x);\n",
    "        }\n",
    "    }\n",
    "\n",
    "    // ==== ANADE UN BUCLE PARA SUMAR LOS ELEMENTOS DEL ARRAY 'sum'\n",
    "    // y almacenar el total en la variable 'full_sum'\n",
    "\n",
    "\n",
    "    \n",
    "    pi = step * full_sum;\n",
    "    run_time = omp_get_wtime() - start_time;\n",
    "    printf(\"%f %f %d \\n\",pi,run_time,j);\n",
    "    \n",
    "    \n",
    "    //  =========== CIERRA EL BUCLE AQUI ============\n",
    "\n",
    "\n",
    "}\n"
   ]
  },
  {
   "cell_type": "code",
   "execution_count": null,
   "metadata": {
    "collapsed": false
   },
   "outputs": [],
   "source": [
    "!make -f m/Makefile-p2.2.3 clean all"
   ]
  },
  {
   "cell_type": "code",
   "execution_count": 19,
   "metadata": {
    "collapsed": false
   },
   "outputs": [
    {
     "name": "stdout",
     "output_type": "stream",
     "text": [
      "pi secs nthreads\n",
      "3.141593 2.441078 1 \n",
      "3.141593 2.437770 2 \n",
      "3.141593 2.160750 3 \n",
      "3.141593 2.269115 4 \n"
     ]
    }
   ],
   "source": [
    "!./files/pi_spmd_simple"
   ]
  },
  {
   "cell_type": "markdown",
   "metadata": {},
   "source": [
    "# PREGUNTAS:\n",
    "* ¿Por qué la primera implementación en paralelo no da el valor correcto de $\\pi$?\n",
    "* ¿Observas alguna anomalía en la última implementación? ¿Cuál?\n",
    "* ¿A qué se debe?"
   ]
  },
  {
   "cell_type": "markdown",
   "metadata": {},
   "source": [
    "--- TU RESPUESTA AQUí (double click) ---"
   ]
  },
  {
   "cell_type": "code",
   "execution_count": null,
   "metadata": {
    "collapsed": false
   },
   "outputs": [],
   "source": []
  }
 ],
 "metadata": {
  "kernelspec": {
   "display_name": "Python 2",
   "language": "python",
   "name": "python2"
  },
  "language_info": {
   "codemirror_mode": {
    "name": "ipython",
    "version": 2
   },
   "file_extension": ".py",
   "mimetype": "text/x-python",
   "name": "python",
   "nbconvert_exporter": "python",
   "pygments_lexer": "ipython2",
   "version": "2.7.11"
  },
  "toc": {
   "toc_cell": false,
   "toc_number_sections": true,
   "toc_threshold": 6,
   "toc_window_display": false
  }
 },
 "nbformat": 4,
 "nbformat_minor": 0
}
